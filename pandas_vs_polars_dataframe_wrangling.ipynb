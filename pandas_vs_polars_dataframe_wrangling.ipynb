{
 "cells": [
  {
   "cell_type": "markdown",
   "metadata": {},
   "source": [
    "# Comparing DataFrame Operations between Pandas and Polars libraries"
   ]
  },
  {
   "cell_type": "code",
   "execution_count": null,
   "metadata": {},
   "outputs": [],
   "source": [
    "# Import Libraries \n",
    "import pandas as pd\n",
    "import polars as pl\n",
    "import pyarrow as pa"
   ]
  },
  {
   "cell_type": "markdown",
   "metadata": {},
   "source": [
    "## Create DataFrame"
   ]
  },
  {
   "cell_type": "code",
   "execution_count": null,
   "metadata": {},
   "outputs": [],
   "source": [
    "# Pandas\n",
    "df_pd = pd.DataFrame({'colname1': ['Bob', 'Alice'],\n",
    "'colname2': [25, 30]})\n",
    "\n",
    "print(df_pd)"
   ]
  },
  {
   "cell_type": "code",
   "execution_count": null,
   "metadata": {},
   "outputs": [],
   "source": [
    "# Polars\n",
    "df_pl = pl.DataFrame({'colname1': ['Bob', 'Alice'],\n",
    "'colname2': [25, 30]})\n",
    "\n",
    "print(df_pl)"
   ]
  },
  {
   "cell_type": "markdown",
   "metadata": {},
   "source": [
    "## List Column Names"
   ]
  },
  {
   "cell_type": "code",
   "execution_count": null,
   "metadata": {},
   "outputs": [],
   "source": [
    "# Pandas\n",
    "list(df_pd.columns)"
   ]
  },
  {
   "cell_type": "code",
   "execution_count": null,
   "metadata": {},
   "outputs": [],
   "source": [
    "# Polars\n",
    "df_pl.columns"
   ]
  },
  {
   "cell_type": "markdown",
   "metadata": {},
   "source": [
    "## Subset Columns"
   ]
  },
  {
   "cell_type": "code",
   "execution_count": null,
   "metadata": {},
   "outputs": [],
   "source": [
    "# Pandas\n",
    "df_pd[['colname1', 'colname2']]"
   ]
  },
  {
   "cell_type": "code",
   "execution_count": null,
   "metadata": {},
   "outputs": [],
   "source": [
    "# Polars\n",
    "df_pl[['colname1', 'colname2']]"
   ]
  },
  {
   "cell_type": "markdown",
   "metadata": {},
   "source": [
    "## Get DataFrame Shape"
   ]
  },
  {
   "cell_type": "code",
   "execution_count": null,
   "metadata": {},
   "outputs": [],
   "source": [
    "# Pandas\n",
    "df_pd.shape"
   ]
  },
  {
   "cell_type": "code",
   "execution_count": null,
   "metadata": {},
   "outputs": [],
   "source": [
    "# Polars\n",
    "df_pl.shape"
   ]
  },
  {
   "cell_type": "markdown",
   "metadata": {},
   "source": [
    "## Unique Values in Column"
   ]
  },
  {
   "cell_type": "code",
   "execution_count": null,
   "metadata": {},
   "outputs": [],
   "source": [
    "# Pandas\n",
    "df_pd['colname1'].unique()"
   ]
  },
  {
   "cell_type": "code",
   "execution_count": null,
   "metadata": {},
   "outputs": [],
   "source": [
    "# Polars\n",
    "df_pl['colname1'].unique()"
   ]
  },
  {
   "cell_type": "markdown",
   "metadata": {},
   "source": [
    "## Unique Value Counts by Column"
   ]
  },
  {
   "cell_type": "code",
   "execution_count": null,
   "metadata": {},
   "outputs": [],
   "source": [
    "# Pandas\n",
    "df_pd['colname1'].value_counts()"
   ]
  },
  {
   "cell_type": "code",
   "execution_count": null,
   "metadata": {},
   "outputs": [],
   "source": [
    "# Polars\n",
    "df_pl['colname1'].value_counts()"
   ]
  },
  {
   "cell_type": "markdown",
   "metadata": {},
   "source": [
    "## Bind Columns into a Single DataFrame"
   ]
  },
  {
   "cell_type": "code",
   "execution_count": null,
   "metadata": {},
   "outputs": [],
   "source": [
    "# Pandas\n",
    "df_pd1 = pd.DataFrame({'Name': ['Bob', 'Alice'],\n",
    "'Age': [25, 30]})\n",
    "\n",
    "df_pd2 = pd.DataFrame({'Nationality': ['British', 'America'],\n",
    "'Eye_Colour': ['Brown', 'Green']})\n",
    "\n",
    "df_pd_concat = pd.concat([df_pd1, df_pd2], axis = 1)\n",
    "\n",
    "print(df_pd_concat)"
   ]
  },
  {
   "cell_type": "code",
   "execution_count": null,
   "metadata": {},
   "outputs": [],
   "source": [
    "# Polars\n",
    "df_pl1 = pl.DataFrame({'Name': ['Bob', 'Alice'],\n",
    "'Age': [25, 30]})\n",
    "\n",
    "df_pl2 = pl.DataFrame({'Nationality': ['British', 'America'],\n",
    "'Eye_Colour': ['Brown', 'Green']})\n",
    "\n",
    "df_pl_concat = pl.concat([df_pl1, df_pl2], how='horizontal')\n",
    "\n",
    "print(df_pl_concat)"
   ]
  },
  {
   "cell_type": "markdown",
   "metadata": {},
   "source": [
    "## Rename Columns"
   ]
  },
  {
   "cell_type": "code",
   "execution_count": null,
   "metadata": {},
   "outputs": [],
   "source": [
    "# Pandas\n",
    "df_pd = df_pd.rename(columns={'colname1': 'Name', 'colname2': 'Age'})\n",
    "df_pd"
   ]
  },
  {
   "cell_type": "code",
   "execution_count": null,
   "metadata": {},
   "outputs": [],
   "source": [
    "# Polars\n",
    "df_pl = df_pl.rename({'colname1': 'Name', 'colname2': 'Age'})\n",
    "df_pl"
   ]
  },
  {
   "cell_type": "markdown",
   "metadata": {},
   "source": [
    "## Groupby and Summarise"
   ]
  },
  {
   "cell_type": "code",
   "execution_count": null,
   "metadata": {},
   "outputs": [],
   "source": [
    "# Pandas\n",
    "df_pd3 = pd.DataFrame({'Name': ['Bob', 'Alice', 'Bob', 'Alice', 'Bob', 'Alice', 'Bob', 'Alice', 'Bob', 'Alice'],\n",
    "'Units_Sold': [25, 30, 22, 45, 32, 33, 45, 19, None, None],\n",
    "'Month': ['Jan', 'Jan', 'Feb', 'Feb', 'Mar', 'Mar', 'Apr', 'Apr', 'May', 'May']})\n",
    "\n",
    "df_pd3_grped = (\n",
    "    df_pd3\n",
    "    .groupby(['Name'], as_index=False)\n",
    "    .agg({'Units_Sold': 'sum'})\n",
    "    .rename(columns = {'Units_Sold': 'Total_Units_Sold'}) \n",
    ")\n",
    "\n",
    "df_pd3_grped\n"
   ]
  },
  {
   "cell_type": "code",
   "execution_count": null,
   "metadata": {},
   "outputs": [],
   "source": [
    "# Polars\n",
    "df_pl3 = pl.DataFrame({'Name': ['Bob', 'Alice', 'Bob', 'Alice', 'Bob', 'Alice', 'Bob', 'Alice', 'Bob', 'Alice'],\n",
    "'Units_Sold': [25, 30, 22, 45, 32, 33, 45, 19, None, None],\n",
    "'Month': ['Jan', 'Jan', 'Feb', 'Feb', 'Mar', 'Mar', 'Apr', 'Apr', 'May', 'May']})\n",
    "\n",
    "df_pl3_grped = (\n",
    "    df_pl3\n",
    "    .group_by([pl.col(['Name'])], maintain_order=True)\n",
    "    .agg([pl.col(\"Units_Sold\").sum().alias(\"Total_Units_Sold\")])\n",
    ")\n",
    "\n",
    "df_pl3_grped"
   ]
  },
  {
   "cell_type": "markdown",
   "metadata": {},
   "source": [
    "## Filter within Range"
   ]
  },
  {
   "cell_type": "code",
   "execution_count": null,
   "metadata": {},
   "outputs": [],
   "source": [
    "# Pandas\n",
    "## In range\n",
    "filter_range = ['Mar', 'Apr']\n",
    "\n",
    "print(df_pd3[df_pd3.Month.isin(filter_range)])\n",
    "\n",
    "## Not in Range\n",
    "print(df_pd3[~df_pd3.Month.isin(filter_range)])\n"
   ]
  },
  {
   "cell_type": "code",
   "execution_count": null,
   "metadata": {},
   "outputs": [],
   "source": [
    "# Polars\n",
    "## In range\n",
    "filter_range = ['Mar', 'Apr']\n",
    "\n",
    "print(df_pl3.filter(pl.col(\"Month\").is_in(filter_range)))\n",
    "\n",
    "## Not in Range\n",
    "print(df_pl3.filter(~pl.col(\"Month\").is_in(filter_range)))\n"
   ]
  },
  {
   "cell_type": "markdown",
   "metadata": {},
   "source": [
    "## Filter to Null Rows for a Column"
   ]
  },
  {
   "cell_type": "code",
   "execution_count": null,
   "metadata": {},
   "outputs": [],
   "source": [
    "# Pandas\n",
    "df_pd3[pd.isnull(df_pd3.Units_Sold)]"
   ]
  },
  {
   "cell_type": "code",
   "execution_count": null,
   "metadata": {},
   "outputs": [],
   "source": [
    "# Polars\n",
    "df_pl3.filter(pl.col(\"Units_Sold\").is_null())"
   ]
  },
  {
   "cell_type": "markdown",
   "metadata": {},
   "source": [
    "## Exclude Null Values\n"
   ]
  },
  {
   "cell_type": "code",
   "execution_count": null,
   "metadata": {},
   "outputs": [],
   "source": [
    "# Pandas\n",
    "df_pd3.dropna()"
   ]
  },
  {
   "cell_type": "code",
   "execution_count": null,
   "metadata": {},
   "outputs": [],
   "source": [
    "# Polars\n",
    "df_pl3.drop_nulls()"
   ]
  },
  {
   "cell_type": "markdown",
   "metadata": {},
   "source": [
    "## Turn Nulls to 0"
   ]
  },
  {
   "cell_type": "code",
   "execution_count": null,
   "metadata": {},
   "outputs": [],
   "source": [
    "# Pandas\n",
    "df_pd3['Units_Sold'] = df_pd3['Units_Sold'].fillna(0)\n",
    "df_pd3"
   ]
  },
  {
   "cell_type": "code",
   "execution_count": null,
   "metadata": {},
   "outputs": [],
   "source": [
    "# Polars\n",
    "df_pl3.select(pl.col(\"Units_Sold\").fill_null(0))\n"
   ]
  },
  {
   "cell_type": "markdown",
   "metadata": {},
   "source": [
    "## Bind Rows/ Union All DataFrames"
   ]
  },
  {
   "cell_type": "code",
   "execution_count": null,
   "metadata": {},
   "outputs": [],
   "source": [
    "# Pandas\n",
    "df_pd4 = pd.concat([df_pd3, df_pd3], axis = 0)\n",
    "df_pd4"
   ]
  },
  {
   "cell_type": "code",
   "execution_count": null,
   "metadata": {},
   "outputs": [],
   "source": [
    "# Polars\n",
    "df_pl4 = pl.concat([df_pl3, df_pl3], how = 'vertical')\n",
    "df_pl4"
   ]
  },
  {
   "cell_type": "markdown",
   "metadata": {},
   "source": [
    "## Drop Duplicates"
   ]
  },
  {
   "cell_type": "code",
   "execution_count": null,
   "metadata": {},
   "outputs": [],
   "source": [
    "# Pandas \n",
    "df_pd4_deduped = df_pd4.drop_duplicates()\n",
    "df_pd4_deduped"
   ]
  },
  {
   "cell_type": "code",
   "execution_count": null,
   "metadata": {},
   "outputs": [],
   "source": [
    "# Polars \n",
    "df_pl4_deduped = df_pl4.unique()\n",
    "df_pl4_deduped"
   ]
  },
  {
   "cell_type": "markdown",
   "metadata": {},
   "source": [
    "## Filter Rows"
   ]
  },
  {
   "cell_type": "code",
   "execution_count": null,
   "metadata": {},
   "outputs": [],
   "source": [
    "# Pandas\n",
    "df_pd3[(df_pd3.Name == \"Bob\") & (df_pd3.Units_Sold > 30)]"
   ]
  },
  {
   "cell_type": "code",
   "execution_count": null,
   "metadata": {},
   "outputs": [],
   "source": [
    "# Polars\n",
    "df_pl3.filter((pl.col(\"Name\") == \"Bob\") & (pl.col(\"Units_Sold\") > 30))"
   ]
  },
  {
   "cell_type": "markdown",
   "metadata": {},
   "source": [
    "## Mutate Columns"
   ]
  },
  {
   "cell_type": "code",
   "execution_count": null,
   "metadata": {},
   "outputs": [],
   "source": [
    "# Pandas\n",
    "df_pd3['Units_Sold_Squared'] = df_pd3['Units_Sold'].apply(lambda x: x**2)\n",
    "df_pd3"
   ]
  },
  {
   "cell_type": "code",
   "execution_count": null,
   "metadata": {},
   "outputs": [],
   "source": [
    "# Polars\n",
    "df_pl3 = df_pl3.with_columns([\n",
    "    pl.col(\"Units_Sold\").map_batches(lambda x: x**2).alias(\"Units_Sold_Squared\")\n",
    "])\n",
    "\n",
    "df_pl3"
   ]
  },
  {
   "cell_type": "markdown",
   "metadata": {},
   "source": [
    "## Sort Values"
   ]
  },
  {
   "cell_type": "code",
   "execution_count": null,
   "metadata": {},
   "outputs": [],
   "source": [
    "# Pandas\n",
    "df_pd3.sort_values(by = ['Units_Sold', 'Name'], ascending = [False, True])"
   ]
  },
  {
   "cell_type": "code",
   "execution_count": null,
   "metadata": {},
   "outputs": [],
   "source": [
    "# Polars\n",
    "df_pl3.sort([\n",
    "    pl.col('Units_Sold'),\n",
    "    pl.col(\"Name\")\n",
    "    ], descending=  [True, False])"
   ]
  },
  {
   "cell_type": "markdown",
   "metadata": {},
   "source": [
    "## Select Columns"
   ]
  },
  {
   "cell_type": "code",
   "execution_count": null,
   "metadata": {},
   "outputs": [],
   "source": [
    "# Pandas\n",
    "df_pd3[['Name', 'Units_Sold']]"
   ]
  },
  {
   "cell_type": "code",
   "execution_count": null,
   "metadata": {},
   "outputs": [],
   "source": [
    "# Polars\n",
    "df_pl3[['Name', 'Units_Sold']]"
   ]
  },
  {
   "cell_type": "markdown",
   "metadata": {},
   "source": [
    "## Drop Columns"
   ]
  },
  {
   "cell_type": "code",
   "execution_count": null,
   "metadata": {},
   "outputs": [],
   "source": [
    "# Pandas\n",
    "df_pd3.drop(\"Units_Sold_Squared\", axis = 1)"
   ]
  },
  {
   "cell_type": "code",
   "execution_count": null,
   "metadata": {},
   "outputs": [],
   "source": [
    "# Polars\n",
    "df_pl3.select([pl.exclude(\"Units_Sold_Squared\")])"
   ]
  },
  {
   "cell_type": "markdown",
   "metadata": {},
   "source": [
    "## Check Class and Types"
   ]
  },
  {
   "cell_type": "code",
   "execution_count": null,
   "metadata": {},
   "outputs": [],
   "source": [
    "# Pandas\n",
    "print(type(df_pd3[\"Units_Sold\"]))\n",
    "\n",
    "print(df_pd3.dtypes)"
   ]
  },
  {
   "cell_type": "code",
   "execution_count": null,
   "metadata": {},
   "outputs": [],
   "source": [
    "# Polars\n",
    "print(df_pl3['Units_Sold'].dtype)\n",
    "\n",
    "print(df_pl3.dtypes)"
   ]
  },
  {
   "cell_type": "markdown",
   "metadata": {},
   "source": [
    "## Cast Types"
   ]
  },
  {
   "cell_type": "code",
   "execution_count": null,
   "metadata": {},
   "outputs": [],
   "source": [
    "# Pandas\n",
    "df_pd3['Units_Sold'].astype('int')"
   ]
  },
  {
   "cell_type": "code",
   "execution_count": null,
   "metadata": {},
   "outputs": [],
   "source": [
    "# Polars\n",
    "df_pl3.with_columns([\n",
    "    pl.col(\"Units_Sold\").cast(float)\n",
    "])"
   ]
  },
  {
   "cell_type": "markdown",
   "metadata": {},
   "source": [
    "## Merging and Joining"
   ]
  },
  {
   "cell_type": "code",
   "execution_count": null,
   "metadata": {},
   "outputs": [],
   "source": [
    "# Pandas\n",
    "df1_pd = pd.DataFrame({'Name': ['Bob', 'Alice'], 'Age': [25, 30]})\n",
    "df2_pd = pd.DataFrame({'Name': ['Bob', 'Alice'], 'Eye_Colour': ['Brown', 'Green']})\n",
    "\n",
    "df_joined_pd = pd.merge(df1_pd, df2_pd, on = [\"Name\"], how = \"left\")\n",
    "df_joined_pd"
   ]
  },
  {
   "cell_type": "code",
   "execution_count": null,
   "metadata": {},
   "outputs": [],
   "source": [
    "# Polars\n",
    "df1_pl = pl.DataFrame({'Name': ['Bob', 'Alice'], 'Age': [25, 30]})\n",
    "df2_pl = pl.DataFrame({'Name': ['Bob', 'Alice'], 'Eye_Colour': ['Brown', 'Green']})\n",
    "\n",
    "df_joined_pl = df1_pl.join(\n",
    "    df2_pl,\n",
    "    left_on=[\"Name\"],\n",
    "    right_on=[\"Name\"],\n",
    "    how='left'\n",
    ")\n",
    "df_joined_pl"
   ]
  },
  {
   "cell_type": "markdown",
   "metadata": {},
   "source": [
    "## Write CSV"
   ]
  },
  {
   "cell_type": "code",
   "execution_count": null,
   "metadata": {},
   "outputs": [],
   "source": [
    "from pathlib import Path\n",
    "\n",
    "Path(\"saved_data/\").mkdir(parents=True, exist_ok=True)"
   ]
  },
  {
   "cell_type": "code",
   "execution_count": null,
   "metadata": {},
   "outputs": [],
   "source": [
    "# Pandas\n",
    "df1_pd.to_csv(\"./saved_data/df_pd.csv\", index=False)"
   ]
  },
  {
   "cell_type": "code",
   "execution_count": null,
   "metadata": {},
   "outputs": [],
   "source": [
    "# Polars\n",
    "df1_pl.write_csv(r\"./saved_data/df_pl.csv\", separator=\",\")"
   ]
  },
  {
   "cell_type": "markdown",
   "metadata": {},
   "source": [
    "## Read CSV"
   ]
  },
  {
   "cell_type": "code",
   "execution_count": null,
   "metadata": {},
   "outputs": [],
   "source": [
    "# Pandas\n",
    "df_read_pd = pd.read_csv(\"./saved_data/df_pd.csv\")\n",
    "df_read_pd"
   ]
  },
  {
   "cell_type": "code",
   "execution_count": null,
   "metadata": {},
   "outputs": [],
   "source": [
    "# Polars\n",
    "df_read_pl = pl.read_csv(\"./saved_data/df_pl.csv\")\n",
    "df_read_pl"
   ]
  },
  {
   "cell_type": "markdown",
   "metadata": {},
   "source": [
    "## Converting Between Polars and Pandas DataFrames"
   ]
  },
  {
   "cell_type": "code",
   "execution_count": null,
   "metadata": {},
   "outputs": [],
   "source": [
    "# Pandas to Polars\n",
    "pd_df = pd.DataFrame([[1, 2, 3], [4, 5, 6]], columns=[\"a\", \"b\", \"c\"])\n",
    "df = pl.from_pandas(pd_df)\n",
    "df"
   ]
  },
  {
   "cell_type": "code",
   "execution_count": null,
   "metadata": {},
   "outputs": [],
   "source": [
    "# Polars to Pandas\n",
    "df1 = pl.DataFrame(\n",
    "    {\n",
    "        \"foo\": [1, 2, 3],\n",
    "        \"bar\": [6, 7, 8],\n",
    "        \"ham\": [\"a\", \"b\", \"c\"],\n",
    "    }\n",
    ")\n",
    "pandas_df1 = df1.to_pandas()\n",
    "pandas_df1"
   ]
  },
  {
   "cell_type": "code",
   "execution_count": null,
   "metadata": {},
   "outputs": [],
   "source": []
  }
 ],
 "metadata": {
  "interpreter": {
   "hash": "117823e7c84a9601fbdf5102df39c060718a632d292006527d4c06a600424d0e"
  },
  "kernelspec": {
   "display_name": "Python 3.9.7 ('dataframe_wrangling')",
   "language": "python",
   "name": "python3"
  },
  "language_info": {
   "codemirror_mode": {
    "name": "ipython",
    "version": 3
   },
   "file_extension": ".py",
   "mimetype": "text/x-python",
   "name": "python",
   "nbconvert_exporter": "python",
   "pygments_lexer": "ipython3",
   "version": "3.9.7"
  },
  "orig_nbformat": 4
 },
 "nbformat": 4,
 "nbformat_minor": 2
}
